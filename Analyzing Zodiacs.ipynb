{
 "cells": [
  {
   "cell_type": "code",
   "execution_count": 4,
   "metadata": {
    "collapsed": true
   },
   "outputs": [],
   "source": [
    "import pandas as pd\n",
    "from sqlalchemy import create_engine # database connection\n",
    "sql = create_engine('sqlite:///zodiac.sqlite')\n",
    "# look up plotting: http://pandas.pydata.org/pandas-docs/stable/visualization.html"
   ]
  },
  {
   "cell_type": "code",
   "execution_count": 40,
   "metadata": {
    "collapsed": false,
    "scrolled": true
   },
   "outputs": [
    {
     "data": {
      "text/html": [
       "<div>\n",
       "<table border=\"1\" class=\"dataframe\">\n",
       "  <thead>\n",
       "    <tr style=\"text-align: right;\">\n",
       "      <th></th>\n",
       "      <th>sign</th>\n",
       "      <th>keyword</th>\n",
       "      <th>subject_line</th>\n",
       "      <th>sms_interp</th>\n",
       "      <th>interp</th>\n",
       "      <th>rating</th>\n",
       "      <th>slant</th>\n",
       "      <th>date</th>\n",
       "    </tr>\n",
       "  </thead>\n",
       "  <tbody>\n",
       "    <tr>\n",
       "      <th>0</th>\n",
       "      <td>0</td>\n",
       "      <td>awareness</td>\n",
       "      <td>We are motivated to change</td>\n",
       "      <td>It is an extraordinary day. We are motivated t...</td>\n",
       "      <td>The mysterious Scorpio Moon encourages us to e...</td>\n",
       "      <td>1</td>\n",
       "      <td>Generic</td>\n",
       "      <td>2007-08-19</td>\n",
       "    </tr>\n",
       "    <tr>\n",
       "      <th>1</th>\n",
       "      <td>1</td>\n",
       "      <td>emotional disclosure</td>\n",
       "      <td>Emotional disclosure is a double-edged sword</td>\n",
       "      <td>Your optimism may drive you to share your deep...</td>\n",
       "      <td>Your optimism may drive you to share your deep...</td>\n",
       "      <td>1</td>\n",
       "      <td>Generic</td>\n",
       "      <td>2007-08-19</td>\n",
       "    </tr>\n",
       "    <tr>\n",
       "      <th>2</th>\n",
       "      <td>2</td>\n",
       "      <td>consequences</td>\n",
       "      <td>Think before you act</td>\n",
       "      <td>Your relentless loyalty may come to the forefr...</td>\n",
       "      <td>Circumstances can require you to be an anchor ...</td>\n",
       "      <td>1</td>\n",
       "      <td>Generic</td>\n",
       "      <td>2007-08-19</td>\n",
       "    </tr>\n",
       "    <tr>\n",
       "      <th>3</th>\n",
       "      <td>3</td>\n",
       "      <td>change of plans</td>\n",
       "      <td>Be open to changing your plans</td>\n",
       "      <td>An inner voice may tell you that fun and frivo...</td>\n",
       "      <td>An inner voice may tell you that fun and frivo...</td>\n",
       "      <td>1</td>\n",
       "      <td>Generic</td>\n",
       "      <td>2007-08-19</td>\n",
       "    </tr>\n",
       "    <tr>\n",
       "      <th>4</th>\n",
       "      <td>4</td>\n",
       "      <td>destiny</td>\n",
       "      <td>Get ready to engage with the unknown</td>\n",
       "      <td>You've got increased staying power now and can...</td>\n",
       "      <td>You've got increased staying power now and can...</td>\n",
       "      <td>1</td>\n",
       "      <td>Generic</td>\n",
       "      <td>2007-08-19</td>\n",
       "    </tr>\n",
       "  </tbody>\n",
       "</table>\n",
       "</div>"
      ],
      "text/plain": [
       "   sign               keyword                                  subject_line  \\\n",
       "0     0             awareness                    We are motivated to change   \n",
       "1     1  emotional disclosure  Emotional disclosure is a double-edged sword   \n",
       "2     2          consequences                          Think before you act   \n",
       "3     3       change of plans                Be open to changing your plans   \n",
       "4     4               destiny          Get ready to engage with the unknown   \n",
       "\n",
       "                                          sms_interp  \\\n",
       "0  It is an extraordinary day. We are motivated t...   \n",
       "1  Your optimism may drive you to share your deep...   \n",
       "2  Your relentless loyalty may come to the forefr...   \n",
       "3  An inner voice may tell you that fun and frivo...   \n",
       "4  You've got increased staying power now and can...   \n",
       "\n",
       "                                              interp  rating    slant  \\\n",
       "0  The mysterious Scorpio Moon encourages us to e...       1  Generic   \n",
       "1  Your optimism may drive you to share your deep...       1  Generic   \n",
       "2  Circumstances can require you to be an anchor ...       1  Generic   \n",
       "3  An inner voice may tell you that fun and frivo...       1  Generic   \n",
       "4  You've got increased staying power now and can...       1  Generic   \n",
       "\n",
       "         date  \n",
       "0  2007-08-19  \n",
       "1  2007-08-19  \n",
       "2  2007-08-19  \n",
       "3  2007-08-19  \n",
       "4  2007-08-19  "
      ]
     },
     "execution_count": 40,
     "metadata": {},
     "output_type": "execute_result"
    }
   ],
   "source": [
    "df = pd.read_sql_query('SELECT * FROM horoscopes LIMIT 5', sql)\n",
    "df.head()"
   ]
  },
  {
   "cell_type": "code",
   "execution_count": 52,
   "metadata": {
    "collapsed": false
   },
   "outputs": [
    {
     "data": {
      "text/html": [
       "<div>\n",
       "<table border=\"1\" class=\"dataframe\">\n",
       "  <thead>\n",
       "    <tr style=\"text-align: right;\">\n",
       "      <th></th>\n",
       "      <th>count(*)</th>\n",
       "      <th>rating</th>\n",
       "    </tr>\n",
       "  </thead>\n",
       "  <tbody>\n",
       "    <tr>\n",
       "      <th>2</th>\n",
       "      <td>23478</td>\n",
       "      <td>3</td>\n",
       "    </tr>\n",
       "    <tr>\n",
       "      <th>3</th>\n",
       "      <td>6142</td>\n",
       "      <td>4</td>\n",
       "    </tr>\n",
       "    <tr>\n",
       "      <th>4</th>\n",
       "      <td>471</td>\n",
       "      <td>5</td>\n",
       "    </tr>\n",
       "  </tbody>\n",
       "</table>\n",
       "</div>"
      ],
      "text/plain": [
       "   count(*)  rating\n",
       "2     23478       3\n",
       "3      6142       4\n",
       "4       471       5"
      ]
     },
     "execution_count": 52,
     "metadata": {},
     "output_type": "execute_result"
    }
   ],
   "source": []
  },
  {
   "cell_type": "code",
   "execution_count": 33,
   "metadata": {
    "collapsed": false
   },
   "outputs": [
    {
     "data": {
      "text/html": [
       "<div>\n",
       "<table border=\"1\" class=\"dataframe\">\n",
       "  <thead>\n",
       "    <tr style=\"text-align: right;\">\n",
       "      <th></th>\n",
       "      <th>c</th>\n",
       "      <th>keyword</th>\n",
       "      <th>interp</th>\n",
       "    </tr>\n",
       "  </thead>\n",
       "  <tbody>\n",
       "    <tr>\n",
       "      <th>0</th>\n",
       "      <td>324</td>\n",
       "      <td>patience</td>\n",
       "      <td>You're surfing emotional waves that are bigger...</td>\n",
       "    </tr>\n",
       "    <tr>\n",
       "      <th>1</th>\n",
       "      <td>290</td>\n",
       "      <td>balance</td>\n",
       "      <td>You know that participating in a group activit...</td>\n",
       "    </tr>\n",
       "    <tr>\n",
       "      <th>2</th>\n",
       "      <td>241</td>\n",
       "      <td>communication</td>\n",
       "      <td>Expressing feelings that you might normally ke...</td>\n",
       "    </tr>\n",
       "    <tr>\n",
       "      <th>3</th>\n",
       "      <td>214</td>\n",
       "      <td>imagination</td>\n",
       "      <td>Your unquenchable penchant for adventure could...</td>\n",
       "    </tr>\n",
       "    <tr>\n",
       "      <th>4</th>\n",
       "      <td>211</td>\n",
       "      <td>flexibility</td>\n",
       "      <td>An odd feeling of anxiety rises from the depth...</td>\n",
       "    </tr>\n",
       "  </tbody>\n",
       "</table>\n",
       "</div>"
      ],
      "text/plain": [
       "     c        keyword                                             interp\n",
       "0  324       patience  You're surfing emotional waves that are bigger...\n",
       "1  290        balance  You know that participating in a group activit...\n",
       "2  241  communication  Expressing feelings that you might normally ke...\n",
       "3  214    imagination  Your unquenchable penchant for adventure could...\n",
       "4  211    flexibility  An odd feeling of anxiety rises from the depth..."
      ]
     },
     "execution_count": 33,
     "metadata": {},
     "output_type": "execute_result"
    }
   ],
   "source": [
    "df = pd.read_sql_query('select count(*) as c, \"keyword\", \"interp\" from horoscopes group by \"keyword\" having c >= 10 order by c desc', sql)\n",
    "df.head()"
   ]
  },
  {
   "cell_type": "code",
   "execution_count": 39,
   "metadata": {
    "collapsed": false
   },
   "outputs": [
    {
     "data": {
      "text/plain": [
       "\"You're surfing emotional waves that are bigger than you've seen in a while and they propel you further than you expect. You're likely to take your feelings seriously as you try to maintain your balance in very tricky circumstances. Nevertheless, the completion of any one specific task may be more elusive than you wish. You grow even more determined than ever to reach the finish line; nevertheless, patience and a healthy sense of humor are your greatest virtues at this time.\""
      ]
     },
     "execution_count": 39,
     "metadata": {},
     "output_type": "execute_result"
    }
   ],
   "source": [
    "df.loc[0].interp"
   ]
  },
  {
   "cell_type": "code",
   "execution_count": 17,
   "metadata": {
    "collapsed": false
   },
   "outputs": [],
   "source": [
    "import matplotlib\n",
    "import matplotlib.pylab as plt\n",
    "matplotlib.style.use('ggplot')\n",
    "%matplotlib inline"
   ]
  },
  {
   "cell_type": "code",
   "execution_count": 30,
   "metadata": {
    "collapsed": false
   },
   "outputs": [
    {
     "data": {
      "text/plain": [
       "array([[<matplotlib.axes._subplots.AxesSubplot object at 0x7faa75335b38>]], dtype=object)"
      ]
     },
     "execution_count": 30,
     "metadata": {},
     "output_type": "execute_result"
    },
    {
     "data": {
      "image/png": "[encoded data removed]",
      "text/plain": [
       "<matplotlib.figure.Figure at 0x7faa7533ca90>"
      ]
     },
     "metadata": {},
     "output_type": "display_data"
    }
   ],
   "source": [
    "df.hist()"
   ]
  },
  {
   "cell_type": "code",
   "execution_count": 50,
   "metadata": {
    "collapsed": false
   },
   "outputs": [
    {
     "data": {
      "text/plain": [
       "array([[<matplotlib.axes._subplots.AxesSubplot object at 0x7faa739efc88>,\n",
       "        <matplotlib.axes._subplots.AxesSubplot object at 0x7faa74e979b0>]], dtype=object)"
      ]
     },
     "execution_count": 50,
     "metadata": {},
     "output_type": "execute_result"
    },
    {
     "data": {
      "image/png": "[encoded data removed]",
      "text/plain": [
       "<matplotlib.figure.Figure at 0x7faa73a08550>"
      ]
     },
     "metadata": {},
     "output_type": "display_data"
    }
   ],
   "source": [
    "df = pd.read_sql_query('SELECT count(*),rating FROM horoscopes group by rating', sql)\n",
    "df.hist()"
   ]
  },
  {
   "cell_type": "code",
   "execution_count": 51,
   "metadata": {
    "collapsed": false
   },
   "outputs": [
    {
     "data": {
      "text/html": [
       "<div>\n",
       "<table border=\"1\" class=\"dataframe\">\n",
       "  <thead>\n",
       "    <tr style=\"text-align: right;\">\n",
       "      <th></th>\n",
       "      <th>count(*)</th>\n",
       "      <th>rating</th>\n",
       "    </tr>\n",
       "  </thead>\n",
       "  <tbody>\n",
       "    <tr>\n",
       "      <th>0</th>\n",
       "      <td>1230</td>\n",
       "      <td>1</td>\n",
       "    </tr>\n",
       "    <tr>\n",
       "      <th>1</th>\n",
       "      <td>7580</td>\n",
       "      <td>2</td>\n",
       "    </tr>\n",
       "    <tr>\n",
       "      <th>2</th>\n",
       "      <td>23478</td>\n",
       "      <td>3</td>\n",
       "    </tr>\n",
       "    <tr>\n",
       "      <th>3</th>\n",
       "      <td>6142</td>\n",
       "      <td>4</td>\n",
       "    </tr>\n",
       "    <tr>\n",
       "      <th>4</th>\n",
       "      <td>471</td>\n",
       "      <td>5</td>\n",
       "    </tr>\n",
       "  </tbody>\n",
       "</table>\n",
       "</div>"
      ],
      "text/plain": [
       "   count(*)  rating\n",
       "0      1230       1\n",
       "1      7580       2\n",
       "2     23478       3\n",
       "3      6142       4\n",
       "4       471       5"
      ]
     },
     "execution_count": 51,
     "metadata": {},
     "output_type": "execute_result"
    }
   ],
   "source": [
    "df"
   ]
  },
  {
   "cell_type": "code",
   "execution_count": null,
   "metadata": {
    "collapsed": true
   },
   "outputs": [],
   "source": []
  }
 ],
 "metadata": {
  "kernelspec": {
   "display_name": "Python 3",
   "language": "python",
   "name": "python3"
  },
  "language_info": {
   "codemirror_mode": {
    "name": "ipython",
    "version": 3
   },
   "file_extension": ".py",
   "mimetype": "text/x-python",
   "name": "python",
   "nbconvert_exporter": "python",
   "pygments_lexer": "ipython3",
   "version": "3.5.0"
  }
 },
 "nbformat": 4,
 "nbformat_minor": 0
}
