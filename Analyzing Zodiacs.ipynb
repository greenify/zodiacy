{
 "cells": [
  {
   "cell_type": "code",
   "execution_count": 1,
   "metadata": {
    "collapsed": true
   },
   "outputs": [],
   "source": [
    "import pandas as pd\n",
    "from sqlalchemy import create_engine # database connection\n",
    "sql = create_engine('sqlite:///data/zodiac.sqlite')\n",
    "# look up plotting: http://pandas.pydata.org/pandas-docs/stable/visualization.html"
   ]
  },
  {
   "cell_type": "code",
   "execution_count": 2,
   "metadata": {
    "collapsed": false,
    "scrolled": true
   },
   "outputs": [
    {
     "data": {
      "text/html": [
       "<div>\n",
       "<table border=\"1\" class=\"dataframe\">\n",
       "  <thead>\n",
       "    <tr style=\"text-align: right;\">\n",
       "      <th></th>\n",
       "      <th>sign</th>\n",
       "      <th>keyword</th>\n",
       "      <th>subject_line</th>\n",
       "      <th>sms_interp</th>\n",
       "      <th>interp</th>\n",
       "      <th>rating</th>\n",
       "      <th>date</th>\n",
       "    </tr>\n",
       "  </thead>\n",
       "  <tbody>\n",
       "    <tr>\n",
       "      <th>0</th>\n",
       "      <td>0</td>\n",
       "      <td>over the top</td>\n",
       "      <td>Suppression is not a viable option</td>\n",
       "      <td>Suppression is not a viable option now, as the...</td>\n",
       "      <td>Although the Moon enters light and breezy Gemi...</td>\n",
       "      <td>1</td>\n",
       "      <td>2007-09-03</td>\n",
       "    </tr>\n",
       "    <tr>\n",
       "      <th>1</th>\n",
       "      <td>1</td>\n",
       "      <td>restless</td>\n",
       "      <td>There's no need to make alternative plans</td>\n",
       "      <td>You might get bent out of shape. But, a sweet ...</td>\n",
       "      <td>You might get bent out of shape as your key pl...</td>\n",
       "      <td>1</td>\n",
       "      <td>2007-09-03</td>\n",
       "    </tr>\n",
       "    <tr>\n",
       "      <th>2</th>\n",
       "      <td>2</td>\n",
       "      <td>awareness</td>\n",
       "      <td>Don't ignore the signs</td>\n",
       "      <td>None</td>\n",
       "      <td>You can be the champion of maintaining the sta...</td>\n",
       "      <td>1</td>\n",
       "      <td>2007-09-03</td>\n",
       "    </tr>\n",
       "    <tr>\n",
       "      <th>3</th>\n",
       "      <td>3</td>\n",
       "      <td>independence</td>\n",
       "      <td>Something is ready to surface</td>\n",
       "      <td>Something is ready to surface and the quicker ...</td>\n",
       "      <td>Your key planet Mercury is touched by shadowy ...</td>\n",
       "      <td>1</td>\n",
       "      <td>2007-09-03</td>\n",
       "    </tr>\n",
       "    <tr>\n",
       "      <th>4</th>\n",
       "      <td>4</td>\n",
       "      <td>regroup</td>\n",
       "      <td>You may need to regroup</td>\n",
       "      <td>A monkey wrench is thrown into the works. You ...</td>\n",
       "      <td>You could be quite obsessed with a long-term g...</td>\n",
       "      <td>1</td>\n",
       "      <td>2007-09-03</td>\n",
       "    </tr>\n",
       "  </tbody>\n",
       "</table>\n",
       "</div>"
      ],
      "text/plain": [
       "   sign       keyword                               subject_line  \\\n",
       "0     0  over the top         Suppression is not a viable option   \n",
       "1     1      restless  There's no need to make alternative plans   \n",
       "2     2     awareness                     Don't ignore the signs   \n",
       "3     3  independence              Something is ready to surface   \n",
       "4     4       regroup                    You may need to regroup   \n",
       "\n",
       "                                          sms_interp  \\\n",
       "0  Suppression is not a viable option now, as the...   \n",
       "1  You might get bent out of shape. But, a sweet ...   \n",
       "2                                               None   \n",
       "3  Something is ready to surface and the quicker ...   \n",
       "4  A monkey wrench is thrown into the works. You ...   \n",
       "\n",
       "                                              interp  rating        date  \n",
       "0  Although the Moon enters light and breezy Gemi...       1  2007-09-03  \n",
       "1  You might get bent out of shape as your key pl...       1  2007-09-03  \n",
       "2  You can be the champion of maintaining the sta...       1  2007-09-03  \n",
       "3  Your key planet Mercury is touched by shadowy ...       1  2007-09-03  \n",
       "4  You could be quite obsessed with a long-term g...       1  2007-09-03  "
      ]
     },
     "execution_count": 2,
     "metadata": {},
     "output_type": "execute_result"
    }
   ],
   "source": [
    "df = pd.read_sql_query('SELECT * FROM horoscopes LIMIT 5', sql)\n",
    "df.head()"
   ]
  },
  {
   "cell_type": "code",
   "execution_count": 21,
   "metadata": {
    "collapsed": false
   },
   "outputs": [],
   "source": [
    "df = pd.read_sql_query('select count(*) as occurence, \"keyword\", \"interp\" from horoscopes group by \"keyword\" having occurence >= 1 order by occurence desc', sql)"
   ]
  },
  {
   "cell_type": "code",
   "execution_count": 6,
   "metadata": {
    "collapsed": false
   },
   "outputs": [],
   "source": [
    "import matplotlib\n",
    "import matplotlib.pylab as plt\n",
    "matplotlib.style.use('ggplot')\n",
    "%matplotlib inline"
   ]
  },
  {
   "cell_type": "code",
   "execution_count": 27,
   "metadata": {
    "collapsed": false
   },
   "outputs": [
    {
     "data": {
      "image/png": "[encoded data removed]",
      "text/plain": [
       "<matplotlib.figure.Figure at 0x7f0ed11c9940>"
      ]
     },
     "metadata": {},
     "output_type": "display_data"
    }
   ],
   "source": [
    "plot = df.plot(kind='hist', orientation='vertical', cumulative=False, bins=20, logy=True)\n",
    "fig = plot.get_figure()\n",
    "fig.savefig(\"keyword_occurence.png\", dpi=1200)"
   ]
  },
  {
   "cell_type": "code",
   "execution_count": 50,
   "metadata": {
    "collapsed": false
   },
   "outputs": [
    {
     "data": {
      "text/plain": [
       "array([[<matplotlib.axes._subplots.AxesSubplot object at 0x7faa739efc88>,\n",
       "        <matplotlib.axes._subplots.AxesSubplot object at 0x7faa74e979b0>]], dtype=object)"
      ]
     },
     "execution_count": 50,
     "metadata": {},
     "output_type": "execute_result"
    },
    {
     "data": {
      "image/png": "[encoded data removed]",
      "text/plain": [
       "<matplotlib.figure.Figure at 0x7faa73a08550>"
      ]
     },
     "metadata": {},
     "output_type": "display_data"
    }
   ],
   "source": [
    "df = pd.read_sql_query('SELECT count(*),rating FROM horoscopes group by rating', sql)\n",
    "df.hist()"
   ]
  },
  {
   "cell_type": "code",
   "execution_count": 51,
   "metadata": {
    "collapsed": false
   },
   "outputs": [
    {
     "data": {
      "text/html": [
       "<div>\n",
       "<table border=\"1\" class=\"dataframe\">\n",
       "  <thead>\n",
       "    <tr style=\"text-align: right;\">\n",
       "      <th></th>\n",
       "      <th>count(*)</th>\n",
       "      <th>rating</th>\n",
       "    </tr>\n",
       "  </thead>\n",
       "  <tbody>\n",
       "    <tr>\n",
       "      <th>0</th>\n",
       "      <td>1230</td>\n",
       "      <td>1</td>\n",
       "    </tr>\n",
       "    <tr>\n",
       "      <th>1</th>\n",
       "      <td>7580</td>\n",
       "      <td>2</td>\n",
       "    </tr>\n",
       "    <tr>\n",
       "      <th>2</th>\n",
       "      <td>23478</td>\n",
       "      <td>3</td>\n",
       "    </tr>\n",
       "    <tr>\n",
       "      <th>3</th>\n",
       "      <td>6142</td>\n",
       "      <td>4</td>\n",
       "    </tr>\n",
       "    <tr>\n",
       "      <th>4</th>\n",
       "      <td>471</td>\n",
       "      <td>5</td>\n",
       "    </tr>\n",
       "  </tbody>\n",
       "</table>\n",
       "</div>"
      ],
      "text/plain": [
       "   count(*)  rating\n",
       "0      1230       1\n",
       "1      7580       2\n",
       "2     23478       3\n",
       "3      6142       4\n",
       "4       471       5"
      ]
     },
     "execution_count": 51,
     "metadata": {},
     "output_type": "execute_result"
    }
   ],
   "source": [
    "df"
   ]
  },
  {
   "cell_type": "code",
   "execution_count": null,
   "metadata": {
    "collapsed": true
   },
   "outputs": [],
   "source": []
  }
 ],
 "metadata": {
  "kernelspec": {
   "display_name": "Python 3",
   "language": "python",
   "name": "python3"
  },
  "language_info": {
   "codemirror_mode": {
    "name": "ipython",
    "version": 3
   },
   "file_extension": ".py",
   "mimetype": "text/x-python",
   "name": "python",
   "nbconvert_exporter": "python",
   "pygments_lexer": "ipython3",
   "version": "3.5.0"
  }
 },
 "nbformat": 4,
 "nbformat_minor": 0
}
